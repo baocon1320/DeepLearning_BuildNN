{
 "cells": [
  {
   "cell_type": "code",
   "execution_count": 62,
   "metadata": {},
   "outputs": [],
   "source": [
    "import numpy as np"
   ]
  },
  {
   "cell_type": "code",
   "execution_count": 63,
   "metadata": {},
   "outputs": [],
   "source": [
    "# Weight from layer i to j\n",
    "w_ij = np.array([0.1 ,0.2, 0.3, 0.3, 0.2, 0.7, 0.4, 0.3, 0.9]).reshape(3,3)"
   ]
  },
  {
   "cell_type": "code",
   "execution_count": 64,
   "metadata": {},
   "outputs": [
    {
     "data": {
      "text/plain": [
       "array([[0.1, 0.2, 0.3],\n",
       "       [0.3, 0.2, 0.7],\n",
       "       [0.4, 0.3, 0.9]])"
      ]
     },
     "execution_count": 64,
     "metadata": {},
     "output_type": "execute_result"
    }
   ],
   "source": [
    "w_ij"
   ]
  },
  {
   "cell_type": "code",
   "execution_count": 65,
   "metadata": {},
   "outputs": [],
   "source": [
    "# Weight input at i\n",
    "i = np.array([0.1, 0.2, 0.7])"
   ]
  },
  {
   "cell_type": "code",
   "execution_count": 66,
   "metadata": {},
   "outputs": [
    {
     "data": {
      "text/plain": [
       "array([0.65, 0.57, 1.1 ])"
      ]
     },
     "execution_count": 66,
     "metadata": {},
     "output_type": "execute_result"
    }
   ],
   "source": [
    "# Calculate weight at j by dot product and add bias b = 0.3\n",
    "b = 0.3\n",
    "j = np.dot(i, w_ij) + b\n",
    "j"
   ]
  },
  {
   "cell_type": "code",
   "execution_count": 67,
   "metadata": {},
   "outputs": [
    {
     "data": {
      "text/plain": [
       "array([0.65, 0.57, 1.1 ])"
      ]
     },
     "execution_count": 67,
     "metadata": {},
     "output_type": "execute_result"
    }
   ],
   "source": [
    "# Weight out put at layer j by apply activation function\n",
    "j_out = np.maximum(j, 0)\n",
    "j_out"
   ]
  },
  {
   "cell_type": "code",
   "execution_count": 68,
   "metadata": {},
   "outputs": [
    {
     "data": {
      "text/plain": [
       "array([[0.2, 0.3, 0.5],\n",
       "       [0.3, 0.5, 0.7],\n",
       "       [0.6, 0.4, 0.8]])"
      ]
     },
     "execution_count": 68,
     "metadata": {},
     "output_type": "execute_result"
    }
   ],
   "source": [
    "# Weight from layer j to k\n",
    "w_jk = np.array([0.2, 0.3, 0.5, 0.3, 0.5, 0.7, 0.6, 0.4, 0.8]).reshape(3,3)\n",
    "w_jk"
   ]
  },
  {
   "cell_type": "code",
   "execution_count": 69,
   "metadata": {},
   "outputs": [
    {
     "data": {
      "text/plain": [
       "array([1.261, 1.22 , 1.904])"
      ]
     },
     "execution_count": 69,
     "metadata": {},
     "output_type": "execute_result"
    }
   ],
   "source": [
    "k = np.dot(j_out, w_jk) + b\n",
    "k"
   ]
  },
  {
   "cell_type": "code",
   "execution_count": 105,
   "metadata": {},
   "outputs": [
    {
     "data": {
      "text/plain": [
       "array([1.261, 1.22 , 1.904])"
      ]
     },
     "execution_count": 105,
     "metadata": {},
     "output_type": "execute_result"
    }
   ],
   "source": [
    "k_out = np.maximum(k, 0)\n",
    "k_out"
   ]
  },
  {
   "cell_type": "code",
   "execution_count": 106,
   "metadata": {},
   "outputs": [],
   "source": [
    "# test sigmoid\n",
    "#k_out = 1.0 / (1.0 + np.exp(k * (-1.0)))\n",
    "#k_out"
   ]
  },
  {
   "cell_type": "code",
   "execution_count": 107,
   "metadata": {},
   "outputs": [
    {
     "data": {
      "text/plain": [
       "array([[0.1, 0.4, 0.8],\n",
       "       [0.3, 0.7, 0.2],\n",
       "       [0.5, 0.2, 0.9]])"
      ]
     },
     "execution_count": 107,
     "metadata": {},
     "output_type": "execute_result"
    }
   ],
   "source": [
    "# Weight from layer k to o\n",
    "w_ko = np.array([0.1, 0.4, 0.8, 0.3, 0.7, 0.2, 0.5, 0.2, 0.9]).reshape(3,3)\n",
    "w_ko"
   ]
  },
  {
   "cell_type": "code",
   "execution_count": 72,
   "metadata": {},
   "outputs": [
    {
     "data": {
      "text/plain": [
       "array([2.0606, 2.0499, 3.3077])"
      ]
     },
     "execution_count": 72,
     "metadata": {},
     "output_type": "execute_result"
    }
   ],
   "source": [
    "o =  np.dot(k_out, w_jk) + b\n",
    "o"
   ]
  },
  {
   "cell_type": "code",
   "execution_count": 73,
   "metadata": {
    "scrolled": true
   },
   "outputs": [
    {
     "data": {
      "text/plain": [
       "array([0.18282897, 0.18088313, 0.6362879 ])"
      ]
     },
     "execution_count": 73,
     "metadata": {},
     "output_type": "execute_result"
    }
   ],
   "source": [
    "# Return softmax output (activation function)\n",
    "o_out = np.exp(o)/(np.sum(np.exp(o), axis = 0))\n",
    "o_out"
   ]
  },
  {
   "cell_type": "code",
   "execution_count": 74,
   "metadata": {},
   "outputs": [],
   "source": [
    "# Array of target\n",
    "t = np.array([1.0, 0.0, 0.0])"
   ]
  },
  {
   "cell_type": "code",
   "execution_count": 75,
   "metadata": {},
   "outputs": [
    {
     "data": {
      "text/plain": [
       "array([ 1.69920415, -0.81911687, -0.3637121 ])"
      ]
     },
     "execution_count": 75,
     "metadata": {},
     "output_type": "execute_result"
    }
   ],
   "source": [
    "# Calculate cross entropy loss function\n",
    "L = (t * np.log(o_out) + (1-t) * (1-o_out)) * (-1.0)\n",
    "L"
   ]
  },
  {
   "cell_type": "code",
   "execution_count": 76,
   "metadata": {},
   "outputs": [
    {
     "data": {
      "text/plain": [
       "0.5163751757621159"
      ]
     },
     "execution_count": 76,
     "metadata": {},
     "output_type": "execute_result"
    }
   ],
   "source": [
    "sum(L)"
   ]
  },
  {
   "cell_type": "markdown",
   "metadata": {},
   "source": [
    "## Backpropagation"
   ]
  },
  {
   "cell_type": "markdown",
   "metadata": {},
   "source": [
    "#### Find gradient for layer O by using backpropagation algorithm"
   ]
  },
  {
   "cell_type": "markdown",
   "metadata": {},
   "source": [
    "\\begin{align}\n",
    "\\frac{\\partial \\mathbf{L}}{\\partial \\mathbf{W}_{k_io_j}} = \\frac{\\partial \\mathbf{L}}{\\partial \\mathbf{O}_{out_j}} * \\frac{\\partial \\mathbf{O}_{out_j}}{\\partial \\mathbf{O}_{j}} * \\frac{\\partial \\mathbf{O}_{j}}{\\partial \\mathbf{W}_{k_io_j}} = (- \\frac{t_j}{\\mathbf{O}_{out_j}} + \\frac{1 - t_j}{1 - \\mathbf{O}_{out_j}}) * (\\mathbf{O}_{out_j} - \\mathbf{O}_{out_j} ^ 2) * \\mathbf{K}_{out_i}\n",
    "\\end{align}"
   ]
  },
  {
   "cell_type": "code",
   "execution_count": 77,
   "metadata": {},
   "outputs": [
    {
     "data": {
      "text/plain": [
       "array([1., 0., 0.])"
      ]
     },
     "execution_count": 77,
     "metadata": {},
     "output_type": "execute_result"
    }
   ],
   "source": [
    "t"
   ]
  },
  {
   "cell_type": "code",
   "execution_count": 78,
   "metadata": {},
   "outputs": [
    {
     "data": {
      "text/plain": [
       "array([0.18282897, 0.18088313, 0.6362879 ])"
      ]
     },
     "execution_count": 78,
     "metadata": {},
     "output_type": "execute_result"
    }
   ],
   "source": [
    "o_out"
   ]
  },
  {
   "cell_type": "code",
   "execution_count": 79,
   "metadata": {},
   "outputs": [
    {
     "data": {
      "text/plain": [
       "array([1.261, 1.22 , 1.904])"
      ]
     },
     "execution_count": 79,
     "metadata": {},
     "output_type": "execute_result"
    }
   ],
   "source": [
    "k_out"
   ]
  },
  {
   "cell_type": "code",
   "execution_count": 80,
   "metadata": {},
   "outputs": [],
   "source": [
    "#Gradient of layer O\n",
    "g_ko = k_out.reshape(3,1) * (((-1.0) * (t / o_out)) + ((1 - t) / (1 - o_out))) * (o_out - o_out * o_out)"
   ]
  },
  {
   "cell_type": "code",
   "execution_count": 81,
   "metadata": {},
   "outputs": [
    {
     "data": {
      "text/plain": [
       "array([[-1.03045267,  0.22809363,  0.80235904],\n",
       "       [-0.99694866,  0.22067742,  0.77627124],\n",
       "       [-1.55589364,  0.34440148,  1.21149216]])"
      ]
     },
     "execution_count": 81,
     "metadata": {},
     "output_type": "execute_result"
    }
   ],
   "source": [
    "g_ko"
   ]
  },
  {
   "cell_type": "code",
   "execution_count": 84,
   "metadata": {},
   "outputs": [
    {
     "data": {
      "text/plain": [
       "-1.0304526673595422"
      ]
     },
     "execution_count": 84,
     "metadata": {},
     "output_type": "execute_result"
    }
   ],
   "source": [
    "(-1 * t[0] / o_out[0] + (1 - t[0]) / (1 - o_out[0])) * (o_out[0] - o_out[0] * o_out[0]) * k_out[0]"
   ]
  },
  {
   "cell_type": "markdown",
   "metadata": {},
   "source": [
    "#### Find gradient for layer K by using backpropagation algorithm"
   ]
  },
  {
   "cell_type": "markdown",
   "metadata": {},
   "source": [
    "\\begin{align}\n",
    "\\frac{\\partial \\mathbf{L}}{\\partial \\mathbf{W}_{j_ik_j}} = \\frac{\\partial \\mathbf{L}}{\\partial \\mathbf{K}_{out_j}} * \\frac{\\partial \\mathbf{K}_{out_j}}{\\partial \\mathbf{K}_{j}} * \\frac{\\partial \\mathbf{K}_{j}}{\\partial \\mathbf{W}_{j_ik_j}} = \\frac{\\partial \\mathbf{L}}{\\partial \\mathbf{K}_{out_j}} * 1 * \\mathbf{J}_{out_i}\n",
    "\\end{align}\n",
    "\n",
    "\n",
    "\\begin{align}\n",
    "\\frac{\\partial \\mathbf{L}}{\\partial \\mathbf{K}_{out_j}} = \\frac{\\partial \\mathbf{L_1}}{\\partial \\mathbf{K}_{out_j}} + \\frac{\\partial \\mathbf{L_2}}{\\partial \\mathbf{K}_{out_j}} + \\frac{\\partial \\mathbf{L_3}}{\\partial \\mathbf{K}_{out_j}} \n",
    "\\end{align}\n",
    "\n",
    "\\begin{align}\n",
    "\\frac{\\partial \\mathbf{L_1}}{\\partial \\mathbf{K}_{out_j}} = \\frac{\\partial \\mathbf{L_1}}{\\partial \\mathbf{O}_{out_1}} * \\frac{\\partial \\mathbf{O}_{out_1}}{\\partial \\mathbf{O}_{1}} * \\frac{\\partial \\mathbf{O}_{1}}{\\partial \\mathbf{K}_{out_j}} = (- \\frac{t_1}{\\mathbf{O}_{out_1}} + \\frac{1 - t_1}{1 - \\mathbf{O}_{out_1}}) * (\\mathbf{O}_{out_1} - \\mathbf{O}_{out_1} ^ 2) * \\mathbf{W}_{k_jo_1}\n",
    "\\end{align}"
   ]
  },
  {
   "cell_type": "markdown",
   "metadata": {},
   "source": [
    "#### Find\n",
    "\\begin{align}\n",
    "\\frac{\\partial \\mathbf{L}}{\\partial \\mathbf{K}_{out_j}} \n",
    "\\end{align}"
   ]
  },
  {
   "cell_type": "code",
   "execution_count": 98,
   "metadata": {},
   "outputs": [
    {
     "data": {
      "text/plain": [
       "array([0.49966647, 0.00872446, 0.20025022])"
      ]
     },
     "execution_count": 98,
     "metadata": {},
     "output_type": "execute_result"
    }
   ],
   "source": [
    "dL_dk = np.sum((((-1.0) * (t / o_out)) + ((1 - t) / (1 - o_out))) * (o_out - o_out * o_out) * w_ko, axis = 1)\n",
    "dL_dk"
   ]
  },
  {
   "cell_type": "code",
   "execution_count": 102,
   "metadata": {},
   "outputs": [
    {
     "data": {
      "text/plain": [
       "array([[0.3247832 , 0.0056709 , 0.13016264],\n",
       "       [0.28480989, 0.00497294, 0.11414263],\n",
       "       [0.54963312, 0.00959691, 0.22027524]])"
      ]
     },
     "execution_count": 102,
     "metadata": {},
     "output_type": "execute_result"
    }
   ],
   "source": [
    "#Gradient of layer K\n",
    "g_jk = j_out.reshape(3,1) * dL_dk\n",
    "g_jk"
   ]
  },
  {
   "cell_type": "markdown",
   "metadata": {},
   "source": [
    "#### Find gradient for layer J by using backpropagation algorithm"
   ]
  },
  {
   "cell_type": "markdown",
   "metadata": {},
   "source": [
    "\\begin{align}\n",
    "\\frac{\\partial \\mathbf{L}}{\\partial \\mathbf{W}_{i_ij_j}} = \\frac{\\partial \\mathbf{L}}{\\partial \\mathbf{J}_{out_j}} * \\frac{\\partial \\mathbf{J}_{out_j}}{\\partial \\mathbf{J}_{j}} * \\frac{\\partial \\mathbf{J}_{j}}{\\partial \\mathbf{W}_{i_ij_j}} = \\frac{\\partial \\mathbf{L}}{\\partial \\mathbf{J}_{out_j}} * 1 * \\mathbf{I}_{out_i}\n",
    "\\end{align}\n",
    "\n",
    "\n",
    "\\begin{align}\n",
    "\\frac{\\partial \\mathbf{L}}{\\partial \\mathbf{J}_{out_j}} = \\frac{\\partial \\mathbf{L}}{\\partial \\mathbf{K}_{out_j}} * \\frac{\\partial \\mathbf{K}_{out_j}}{\\partial \\mathbf{K}_{j}} * \\frac{\\partial \\mathbf{K}_{j}}{\\partial \\mathbf{J}_{out_j}} = \\frac{\\partial \\mathbf{L}}{\\partial \\mathbf{K}_{out_j}} * 1 * \\mathbf{W}_{j_jk_j}\n",
    "\\end{align}\n",
    "\n",
    "This derivative is calculated as above\n",
    "\\begin{align}\n",
    "\\frac{\\partial \\mathbf{L}}{\\partial \\mathbf{K}_{out_j}} \n",
    "\\end{align}\n"
   ]
  },
  {
   "cell_type": "code",
   "execution_count": 108,
   "metadata": {},
   "outputs": [
    {
     "data": {
      "text/plain": [
       "array([0.49966647, 0.00872446, 0.20025022])"
      ]
     },
     "execution_count": 108,
     "metadata": {},
     "output_type": "execute_result"
    }
   ],
   "source": [
    "dL_dk = np.sum((((-1.0) * (t / o_out)) + ((1 - t) / (1 - o_out))) * (o_out - o_out * o_out) * w_ko, axis = 1)\n",
    "dL_dk"
   ]
  },
  {
   "cell_type": "code",
   "execution_count": 112,
   "metadata": {},
   "outputs": [
    {
     "data": {
      "text/plain": [
       "array([0.1, 0.2, 0.9])"
      ]
     },
     "execution_count": 112,
     "metadata": {},
     "output_type": "execute_result"
    }
   ],
   "source": [
    "# Get diagonal of w_ij (weigth ij)\n",
    "w_jj_kj = np.diag(w_ij)\n",
    "w_jj_kj"
   ]
  },
  {
   "cell_type": "code",
   "execution_count": 131,
   "metadata": {},
   "outputs": [
    {
     "data": {
      "text/plain": [
       "array([[0.00499666, 0.00017449, 0.01802252],\n",
       "       [0.00999333, 0.00034898, 0.03604504],\n",
       "       [0.03497665, 0.00122142, 0.12615764]])"
      ]
     },
     "execution_count": 131,
     "metadata": {},
     "output_type": "execute_result"
    }
   ],
   "source": [
    "#Gradient of layer J\n",
    "g_ij = i.reshape(3,1) * (dL_dk * w_jj_kj)\n",
    "g_ij"
   ]
  },
  {
   "cell_type": "code",
   "execution_count": null,
   "metadata": {},
   "outputs": [],
   "source": []
  },
  {
   "cell_type": "code",
   "execution_count": null,
   "metadata": {},
   "outputs": [],
   "source": []
  },
  {
   "cell_type": "code",
   "execution_count": null,
   "metadata": {},
   "outputs": [],
   "source": []
  },
  {
   "cell_type": "code",
   "execution_count": null,
   "metadata": {},
   "outputs": [],
   "source": []
  },
  {
   "cell_type": "code",
   "execution_count": 128,
   "metadata": {},
   "outputs": [
    {
     "data": {
      "text/plain": [
       "array([0.04996665, 0.00174489, 0.1802252 ])"
      ]
     },
     "execution_count": 128,
     "metadata": {},
     "output_type": "execute_result"
    }
   ],
   "source": [
    "lll = (dL_dk * w_jj_kj)\n",
    "lll"
   ]
  },
  {
   "cell_type": "code",
   "execution_count": 114,
   "metadata": {},
   "outputs": [
    {
     "data": {
      "text/plain": [
       "array([[0.00499666, 0.00017449, 0.01802252],\n",
       "       [0.00999333, 0.00034898, 0.03604504],\n",
       "       [0.03497665, 0.00122142, 0.12615764]])"
      ]
     },
     "execution_count": 114,
     "metadata": {},
     "output_type": "execute_result"
    }
   ],
   "source": [
    "i.reshape(3,1) * dL_dk * w_jj_kj"
   ]
  },
  {
   "cell_type": "code",
   "execution_count": 123,
   "metadata": {},
   "outputs": [
    {
     "data": {
      "text/plain": [
       "array([[0.00499666, 0.00017449, 0.01802252],\n",
       "       [0.00999333, 0.00034898, 0.03604504],\n",
       "       [0.03497665, 0.00122142, 0.12615764]])"
      ]
     },
     "execution_count": 123,
     "metadata": {},
     "output_type": "execute_result"
    }
   ],
   "source": [
    "(dL_dk * w_jj_kj) * i.reshape(3,1) "
   ]
  },
  {
   "cell_type": "code",
   "execution_count": 129,
   "metadata": {},
   "outputs": [
    {
     "data": {
      "text/plain": [
       "array([[0.00499666, 0.00017449, 0.01802252],\n",
       "       [0.00999333, 0.00034898, 0.03604504],\n",
       "       [0.03497665, 0.00122142, 0.12615764]])"
      ]
     },
     "execution_count": 129,
     "metadata": {},
     "output_type": "execute_result"
    }
   ],
   "source": [
    "i.reshape(3,1)  * lll"
   ]
  },
  {
   "cell_type": "code",
   "execution_count": 117,
   "metadata": {},
   "outputs": [
    {
     "data": {
      "text/plain": [
       "array([[1, 2, 3],\n",
       "       [2, 4, 6],\n",
       "       [3, 6, 9]])"
      ]
     },
     "execution_count": 117,
     "metadata": {},
     "output_type": "execute_result"
    }
   ],
   "source": [
    "test.reshape(3,1) * test"
   ]
  },
  {
   "cell_type": "code",
   "execution_count": 119,
   "metadata": {},
   "outputs": [
    {
     "data": {
      "text/plain": [
       "array([[0.1, 0.8, 2.4],\n",
       "       [0.6, 2.8, 1.2],\n",
       "       [1.5, 1.2, 8.1]])"
      ]
     },
     "execution_count": 119,
     "metadata": {},
     "output_type": "execute_result"
    }
   ],
   "source": [
    "(test.reshape(3,1) * test) * w_ko"
   ]
  },
  {
   "cell_type": "code",
   "execution_count": null,
   "metadata": {},
   "outputs": [],
   "source": []
  },
  {
   "cell_type": "code",
   "execution_count": 87,
   "metadata": {},
   "outputs": [
    {
     "data": {
      "text/plain": [
       "array([[0.1, 0.4, 0.8],\n",
       "       [0.3, 0.7, 0.2],\n",
       "       [0.5, 0.2, 0.9]])"
      ]
     },
     "execution_count": 87,
     "metadata": {},
     "output_type": "execute_result"
    }
   ],
   "source": [
    "w_ko"
   ]
  },
  {
   "cell_type": "code",
   "execution_count": 88,
   "metadata": {},
   "outputs": [],
   "source": [
    "kk = np.array([0,1,2])"
   ]
  },
  {
   "cell_type": "code",
   "execution_count": 89,
   "metadata": {},
   "outputs": [
    {
     "data": {
      "text/plain": [
       "array([[0. , 0.4, 1.6],\n",
       "       [0. , 0.7, 0.4],\n",
       "       [0. , 0.2, 1.8]])"
      ]
     },
     "execution_count": 89,
     "metadata": {},
     "output_type": "execute_result"
    }
   ],
   "source": [
    "w_ko * kk"
   ]
  },
  {
   "cell_type": "code",
   "execution_count": null,
   "metadata": {},
   "outputs": [],
   "source": []
  },
  {
   "cell_type": "code",
   "execution_count": 100,
   "metadata": {},
   "outputs": [
    {
     "data": {
      "text/plain": [
       "array([1, 2, 3])"
      ]
     },
     "execution_count": 100,
     "metadata": {},
     "output_type": "execute_result"
    }
   ],
   "source": [
    "test = np.array([1,2,3])\n",
    "test"
   ]
  },
  {
   "cell_type": "code",
   "execution_count": 101,
   "metadata": {},
   "outputs": [
    {
     "data": {
      "text/plain": [
       "array([[0.18282897, 0.18088313, 0.6362879 ],\n",
       "       [0.36565794, 0.36176626, 1.2725758 ],\n",
       "       [0.54848691, 0.54264939, 1.9088637 ]])"
      ]
     },
     "execution_count": 101,
     "metadata": {},
     "output_type": "execute_result"
    }
   ],
   "source": [
    "test.reshape(3,1) * o_out"
   ]
  },
  {
   "cell_type": "code",
   "execution_count": 99,
   "metadata": {},
   "outputs": [
    {
     "data": {
      "text/plain": [
       "array([0.18282897, 0.18088313, 0.6362879 ])"
      ]
     },
     "execution_count": 99,
     "metadata": {},
     "output_type": "execute_result"
    }
   ],
   "source": [
    "o_out"
   ]
  },
  {
   "cell_type": "code",
   "execution_count": null,
   "metadata": {},
   "outputs": [],
   "source": []
  },
  {
   "cell_type": "code",
   "execution_count": 25,
   "metadata": {},
   "outputs": [],
   "source": [
    "t1 = np.arange(3)"
   ]
  },
  {
   "cell_type": "code",
   "execution_count": 26,
   "metadata": {},
   "outputs": [
    {
     "data": {
      "text/plain": [
       "array([0, 1, 2])"
      ]
     },
     "execution_count": 26,
     "metadata": {},
     "output_type": "execute_result"
    }
   ],
   "source": [
    "t1"
   ]
  },
  {
   "cell_type": "code",
   "execution_count": 27,
   "metadata": {},
   "outputs": [],
   "source": [
    "t2 = np.array([4,5,6])"
   ]
  },
  {
   "cell_type": "code",
   "execution_count": 29,
   "metadata": {},
   "outputs": [
    {
     "data": {
      "text/plain": [
       "array([4, 5, 6])"
      ]
     },
     "execution_count": 29,
     "metadata": {},
     "output_type": "execute_result"
    }
   ],
   "source": [
    "t2"
   ]
  },
  {
   "cell_type": "code",
   "execution_count": 30,
   "metadata": {},
   "outputs": [
    {
     "data": {
      "text/plain": [
       "array([ 0,  5, 12])"
      ]
     },
     "execution_count": 30,
     "metadata": {},
     "output_type": "execute_result"
    }
   ],
   "source": [
    "t1 * t2"
   ]
  },
  {
   "cell_type": "code",
   "execution_count": 33,
   "metadata": {},
   "outputs": [
    {
     "name": "stderr",
     "output_type": "stream",
     "text": [
      "/usr/local/Cellar/ipython/7.4.0/libexec/vendor/lib/python3.7/site-packages/ipykernel_launcher.py:1: RuntimeWarning: divide by zero encountered in log\n",
      "  \"\"\"Entry point for launching an IPython kernel.\n"
     ]
    },
    {
     "data": {
      "text/plain": [
       "array([      -inf, 0.        , 0.69314718])"
      ]
     },
     "execution_count": 33,
     "metadata": {},
     "output_type": "execute_result"
    }
   ],
   "source": [
    "np.log(t1)"
   ]
  },
  {
   "cell_type": "code",
   "execution_count": 32,
   "metadata": {},
   "outputs": [
    {
     "name": "stderr",
     "output_type": "stream",
     "text": [
      "/usr/local/Cellar/ipython/7.4.0/libexec/vendor/lib/python3.7/site-packages/ipykernel_launcher.py:1: RuntimeWarning: divide by zero encountered in log\n",
      "  \"\"\"Entry point for launching an IPython kernel.\n"
     ]
    },
    {
     "data": {
      "text/plain": [
       "-inf"
      ]
     },
     "execution_count": 32,
     "metadata": {},
     "output_type": "execute_result"
    }
   ],
   "source": []
  },
  {
   "cell_type": "code",
   "execution_count": null,
   "metadata": {},
   "outputs": [],
   "source": []
  }
 ],
 "metadata": {
  "kernelspec": {
   "display_name": "Python 3",
   "language": "python",
   "name": "python3"
  },
  "language_info": {
   "codemirror_mode": {
    "name": "ipython",
    "version": 3
   },
   "file_extension": ".py",
   "mimetype": "text/x-python",
   "name": "python",
   "nbconvert_exporter": "python",
   "pygments_lexer": "ipython3",
   "version": "3.7.3"
  }
 },
 "nbformat": 4,
 "nbformat_minor": 2
}
